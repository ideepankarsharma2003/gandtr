{
 "cells": [
  {
   "cell_type": "code",
   "execution_count": 6,
   "id": "0d1c3e77",
   "metadata": {},
   "outputs": [
    {
     "name": "stderr",
     "output_type": "stream",
     "text": [
      "Using cache found in /home/i2v/.cache/torch/hub/mohwald_gandtr_main\n"
     ]
    },
    {
     "name": "stdout",
     "output_type": "stream",
     "text": [
      "['EVAL', 'NetworkParams', 'TRAIN', '__abstractmethods__', '__call__', '__class__', '__delattr__', '__dict__', '__dir__', '__doc__', '__eq__', '__format__', '__ge__', '__getattribute__', '__gt__', '__hash__', '__init__', '__init_subclass__', '__le__', '__lt__', '__module__', '__ne__', '__new__', '__reduce__', '__reduce_ex__', '__repr__', '__setattr__', '__sizeof__', '__slots__', '__str__', '__subclasshook__', '__weakref__', '_abc_impl', '_generate_graph_for_input', '_generate_network_graph', 'const_data', 'device', 'eval', 'forward', 'forward_batch', 'freeze', 'frozen', 'initialize', 'initialize_from_state', 'initialize_wrappers', 'meta', 'model', 'network_params', 'overlay_model', 'overlay_params', 'parameters', 'set_meta', 'stage', 'state_dict', 'train', 'train_data', 'transform', 'wrappers']\n"
     ]
    }
   ],
   "source": [
    "import torch\n",
    "\n",
    "# Load the wrapper\n",
    "wrapper = torch.hub.load(\"mohwald/gandtr\", \"hedngan\", pretrained=True)\n",
    "\n",
    "# Inspect available attributes\n",
    "print(dir(wrapper))\n"
   ]
  },
  {
   "cell_type": "code",
   "execution_count": null,
   "id": "02fc0284",
   "metadata": {},
   "outputs": [
    {
     "name": "stderr",
     "output_type": "stream",
     "text": [
      "Using cache found in /home/i2v/.cache/torch/hub/mohwald_gandtr_main\n"
     ]
    }
   ],
   "source": [
    "import torch\n",
    "from PIL import Image\n",
    "\n",
    "# Load model\n",
    "model = torch.hub.load('mohwald/gandtr', 'gem_vgg16_hedngan')\n",
    "\n",
    "# Load and preprocess image\n",
    "with open(\"data/test/oxford5k/jpg/all_souls_000000.jpg\", 'rb') as f:\n",
    "    image = Image.open(f).convert(\"RGB\")\n",
    "inputs = model.transform(image).unsqueeze(0)\n",
    "\n",
    "# Forward pass\n",
    "with torch.no_grad():\n",
    "    vec = model(inputs)\n",
    "\n",
    "print(f\"Type: {type(vec)}\")\n",
    "if isinstance(vec, torch.Tensor):\n",
    "    print(f\"Shape: {vec.shape}\")\n",
    "    print(vec)\n",
    "elif isinstance(vec, dict):\n",
    "    for k, v in vec.items():\n",
    "        print(f\"{k}: type={type(v)}, shape={getattr(v, 'shape', None)}\")\n"
   ]
  },
  {
   "cell_type": "code",
   "execution_count": 4,
   "id": "8d42a3e3",
   "metadata": {},
   "outputs": [],
   "source": [
    "import torch\n",
    "from PIL import Image\n",
    "import torchvision.transforms as T\n",
    "\n",
    "def augment_day_to_night(image_path, output_path=None,\n",
    "                         model_type=\"hedngan\", device=\"cuda\"):\n",
    "    \"\"\"\n",
    "    Convert a daytime image into a synthetic nighttime image.\n",
    "    Uses the internal `model` attribute from the loaded wrapper.\n",
    "    \"\"\"\n",
    "    # Load GAN wrapper\n",
    "    wrapper = torch.hub.load(\"mohwald/gandtr\", model_type, pretrained=True)\n",
    "    # Extract the internal generator network\n",
    "    generator = wrapper.model.to(device).eval()\n",
    "\n",
    "    # Preprocessing: resize/crop suitable for your use case\n",
    "    transform = T.Compose([\n",
    "        T.ToTensor(),\n",
    "        T.Normalize(mean=[0.5]*3, std=[0.5]*3)\n",
    "    ])\n",
    "\n",
    "    image = Image.open(image_path).convert(\"RGB\")\n",
    "    input_tensor = transform(image).unsqueeze(0).to(device)\n",
    "\n",
    "    with torch.no_grad():\n",
    "        output_tensor = generator(input_tensor)\n",
    "\n",
    "    # Denormalize and convert to PIL image\n",
    "    out = ((output_tensor.squeeze(0).cpu() * 0.5) + 0.5).clamp(0, 1)\n",
    "    night_img = T.ToPILImage()(out)\n",
    "\n",
    "    \n",
    "    return night_img\n",
    "\n",
    "\n"
   ]
  },
  {
   "cell_type": "code",
   "execution_count": null,
   "id": "ff070702",
   "metadata": {},
   "outputs": [
    {
     "name": "stderr",
     "output_type": "stream",
     "text": [
      "Using cache found in /home/i2v/.cache/torch/hub/mohwald_gandtr_main\n"
     ]
    }
   ],
   "source": [
    "# Example usage:\n",
    "if __name__ == \"__main__\":\n",
    "    from PIL import Image\n",
    "    import matplotlib.pyplot as plt\n",
    "\n",
    "    img_path = \"assets/image.png\"\n",
    "    day_img = Image.open(img_path).convert(\"RGB\")\n",
    "\n",
    "    night_img = augment_day_to_night(\n",
    "        img_path,\n",
    "        model_type=\"hedngan\",\n",
    "        device=\"cuda\"  # or \"cpu\"\n",
    "    )\n",
    "    plt.subplot(1, 2, 1)\n",
    "    plt.title(\"Day Image\")\n",
    "    plt.imshow(day_img)\n",
    "\n",
    "    plt.subplot(1, 2, 2)\n",
    "    plt.title(\"Night-like Image\")\n",
    "    plt.imshow(night_img)\n",
    "    plt.show()\n",
    "\n",
    "\n"
   ]
  },
  {
   "cell_type": "code",
   "execution_count": null,
   "id": "8baace2c",
   "metadata": {},
   "outputs": [],
   "source": []
  }
 ],
 "metadata": {
  "kernelspec": {
   "display_name": ".venv",
   "language": "python",
   "name": "python3"
  },
  "language_info": {
   "codemirror_mode": {
    "name": "ipython",
    "version": 3
   },
   "file_extension": ".py",
   "mimetype": "text/x-python",
   "name": "python",
   "nbconvert_exporter": "python",
   "pygments_lexer": "ipython3",
   "version": "3.10.12"
  }
 },
 "nbformat": 4,
 "nbformat_minor": 5
}
